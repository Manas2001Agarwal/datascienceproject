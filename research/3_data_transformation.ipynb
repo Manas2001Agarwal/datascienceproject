{
 "cells": [
  {
   "cell_type": "code",
   "execution_count": 1,
   "metadata": {},
   "outputs": [],
   "source": [
    "import os"
   ]
  },
  {
   "cell_type": "code",
   "execution_count": 4,
   "metadata": {},
   "outputs": [
    {
     "data": {
      "text/plain": [
       "'/Users/mukulagarwal/Desktop/Projects/datascienceproject/research'"
      ]
     },
     "execution_count": 4,
     "metadata": {},
     "output_type": "execute_result"
    }
   ],
   "source": [
    "%pwd"
   ]
  },
  {
   "cell_type": "code",
   "execution_count": 5,
   "metadata": {},
   "outputs": [
    {
     "name": "stdout",
     "output_type": "stream",
     "text": [
      "/Users/mukulagarwal/Desktop/Projects/datascienceproject\n"
     ]
    },
    {
     "name": "stderr",
     "output_type": "stream",
     "text": [
      "/Users/mukulagarwal/Desktop/Projects/datascienceproject/prjt3/lib/python3.10/site-packages/IPython/core/magics/osm.py:417: UserWarning: This is now an optional IPython functionality, setting dhist requires you to install the `pickleshare` library.\n",
      "  self.shell.db['dhist'] = compress_dhist(dhist)[-100:]\n"
     ]
    }
   ],
   "source": [
    "cd .."
   ]
  },
  {
   "cell_type": "code",
   "execution_count": 6,
   "metadata": {},
   "outputs": [
    {
     "data": {
      "text/plain": [
       "'/Users/mukulagarwal/Desktop/Projects/datascienceproject'"
      ]
     },
     "execution_count": 6,
     "metadata": {},
     "output_type": "execute_result"
    }
   ],
   "source": [
    "%pwd"
   ]
  },
  {
   "cell_type": "code",
   "execution_count": 22,
   "metadata": {},
   "outputs": [],
   "source": [
    "from dataclasses import dataclass\n",
    "from pathlib import Path\n",
    "\n",
    "@dataclass\n",
    "class DataTransformationConfig:\n",
    "    root_dir: Path\n",
    "    data_path: Path"
   ]
  },
  {
   "cell_type": "code",
   "execution_count": 23,
   "metadata": {},
   "outputs": [],
   "source": [
    "import os\n",
    "from src.datascience.utils.common import read_yaml, create_directories \n",
    "from src.datascience.constants import CONFIG_FILE_PATH, PARAMS_FILE_PATH, SCHEMA_FILE_PATH\n",
    "class Configuration_Manager:\n",
    "    def __init__(self):\n",
    "        self.config = read_yaml(CONFIG_FILE_PATH)\n",
    "        self.params = read_yaml(PARAMS_FILE_PATH)\n",
    "        self.schema = read_yaml(SCHEMA_FILE_PATH)\n",
    "        \n",
    "        create_directories([self.config.artifacts_root])\n",
    "        \n",
    "    # def get_data_ingestion_config(self) -> DataIngestionConfig:\n",
    "    #     create_directories([self.config.data_ingestion.root_dir])\n",
    "    #     config = self.config.data_ingestion\n",
    "        \n",
    "    #     data_ingestion = DataIngestionConfig(\n",
    "    #         root_dir=config.root_dir,\n",
    "    #         source_URL=config.source_URL,\n",
    "    #         local_data_file=config.local_data_file,\n",
    "    #         unzip_dir=config.unzip_dir\n",
    "    #     )\n",
    "    #     return data_ingestion \n",
    "    \n",
    "    # def get_data_validation_config(self) -> DataValidationConfig:\n",
    "    #     create_directories([self.config.data_validation.root_dir])\n",
    "    #     config = self.config.data_validation\n",
    "    #     schema = self.schema.COLUMNS\n",
    "    #     data_validation = DataValidationConfig(\n",
    "    #         root_dir=config.root_dir,\n",
    "    #         unzip_data_dir=config.unzip_data_dir,\n",
    "    #         STATUS_FILE=config.STATUS_FILE,\n",
    "    #         all_schema = schema\n",
    "    #     )      \n",
    "    #     return data_validation\n",
    "    \n",
    "    def get_data_transformation_config(self) -> DataTransformationConfig:\n",
    "        config = self.config.data_transformation\n",
    "        create_directories([config.root_dir])\n",
    "        \n",
    "        data_transformation_config = DataTransformationConfig(\n",
    "            root_dir=config.root_dir,\n",
    "            data_path=config.data_path\n",
    "        )\n",
    "        return data_transformation_config"
   ]
  },
  {
   "cell_type": "code",
   "execution_count": 24,
   "metadata": {},
   "outputs": [],
   "source": [
    "from sklearn.model_selection import train_test_split\n",
    "import pandas as pd\n",
    "from pathlib import Path\n",
    "import os\n",
    "from src.datascience import logger\n",
    "\n",
    "class DataTransformation:\n",
    "    def __init__(self,config:DataTransformationConfig):\n",
    "        self.config = config\n",
    "    \n",
    "    def train_test_split(self):\n",
    "        data = pd.read_csv(self.config.data_path)\n",
    "        train,test = train_test_split(data,test_size=0.25,random_state=42)\n",
    "        train.to_csv(os.path.join(self.config.root_dir,\"train.csv\"),index = False)\n",
    "        test.to_csv(os.path.join(self.config.root_dir,\"test.csv\"),index = False)\n",
    "        \n",
    "        logger.info(\"Test test split done\")\n",
    "        logger.info(train.shape)\n",
    "        logger.info(test.shape)"
   ]
  },
  {
   "cell_type": "code",
   "execution_count": 25,
   "metadata": {},
   "outputs": [
    {
     "name": "stdout",
     "output_type": "stream",
     "text": [
      "[2024-10-29 11:29:15,532: INFO: common: yaml file at config/config.yaml loaded successfully]\n",
      "[2024-10-29 11:29:15,534: INFO: common: yaml file at params.yaml loaded successfully]\n",
      "[2024-10-29 11:29:15,535: INFO: common: yaml file at schema.yaml loaded successfully]\n",
      "[2024-10-29 11:29:15,536: INFO: common: Directory created at artifacts]\n",
      "[2024-10-29 11:29:15,537: INFO: common: Directory created at artifacts/data_transformation]\n",
      "[2024-10-29 11:29:15,581: INFO: 2928414502: Test test split done]\n",
      "[2024-10-29 11:29:15,582: INFO: 2928414502: (1199, 12)]\n",
      "[2024-10-29 11:29:15,582: INFO: 2928414502: (400, 12)]\n"
     ]
    }
   ],
   "source": [
    "try:\n",
    "    config = Configuration_Manager()\n",
    "    data_transformation_config = config.get_data_transformation_config()\n",
    "    data_transformation = DataTransformation(data_transformation_config)\n",
    "    data_transformation.train_test_split()\n",
    "except Exception as e:\n",
    "    raise e"
   ]
  },
  {
   "cell_type": "code",
   "execution_count": null,
   "metadata": {},
   "outputs": [],
   "source": []
  },
  {
   "cell_type": "code",
   "execution_count": null,
   "metadata": {},
   "outputs": [],
   "source": []
  }
 ],
 "metadata": {
  "kernelspec": {
   "display_name": "Python 3",
   "language": "python",
   "name": "python3"
  },
  "language_info": {
   "codemirror_mode": {
    "name": "ipython",
    "version": 3
   },
   "file_extension": ".py",
   "mimetype": "text/x-python",
   "name": "python",
   "nbconvert_exporter": "python",
   "pygments_lexer": "ipython3",
   "version": "3.10.15"
  }
 },
 "nbformat": 4,
 "nbformat_minor": 2
}
